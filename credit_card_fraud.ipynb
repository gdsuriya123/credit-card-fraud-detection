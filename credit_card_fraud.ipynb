{
  "nbformat": 4,
  "nbformat_minor": 0,
  "metadata": {
    "colab": {
      "provenance": [],
      "authorship_tag": "ABX9TyMRpFTTnbchbdUJJCJ0bFSP",
      "include_colab_link": true
    },
    "kernelspec": {
      "name": "python3",
      "display_name": "Python 3"
    },
    "language_info": {
      "name": "python"
    }
  },
  "cells": [
    {
      "cell_type": "markdown",
      "metadata": {
        "id": "view-in-github",
        "colab_type": "text"
      },
      "source": [
        "<a href=\"https://colab.research.google.com/github/gdsuriya123/credit-card-fraud-detection/blob/main/credit_card_fraud.ipynb\" target=\"_parent\"><img src=\"https://colab.research.google.com/assets/colab-badge.svg\" alt=\"Open In Colab\"/></a>"
      ]
    },
    {
      "cell_type": "code",
      "source": [
        "import pandas as pd\n",
        "from sklearn.model_selection import train_test_split\n",
        "from sklearn.ensemble import IsolationForest\n",
        "from sklearn.metrics import classification_report, confusion_matrix"
      ],
      "metadata": {
        "id": "TP2lzifonG23"
      },
      "execution_count": 25,
      "outputs": []
    },
    {
      "cell_type": "code",
      "source": [
        "data = pd.read_csv(\"/content/creditcard1.csv\")"
      ],
      "metadata": {
        "id": "2BzJybpbnQBR"
      },
      "execution_count": 26,
      "outputs": []
    },
    {
      "cell_type": "code",
      "source": [
        "X = data.drop('Class', axis=1)\n",
        "y = data['Class']"
      ],
      "metadata": {
        "id": "M5XOU_P3nbBq"
      },
      "execution_count": 27,
      "outputs": []
    },
    {
      "cell_type": "code",
      "source": [
        "X_train, X_test, y_train, y_test = train_test_split(X, y, test_size=0.2, random_state=42)"
      ],
      "metadata": {
        "id": "3jMKI52tnfyK"
      },
      "execution_count": 28,
      "outputs": []
    },
    {
      "cell_type": "code",
      "source": [
        "model = IsolationForest(contamination=0.1, random_state=42)\n",
        "model.fit(X_train)\n"
      ],
      "metadata": {
        "id": "bUcWbn7jnnXs"
      },
      "execution_count": null,
      "outputs": []
    },
    {
      "cell_type": "code",
      "source": [
        "y_pred_train = model.predict(X_train)\n",
        "y_pred_test = model.predict(X_test)"
      ],
      "metadata": {
        "id": "ic-55EbLntj3"
      },
      "execution_count": 30,
      "outputs": []
    },
    {
      "cell_type": "code",
      "source": [
        "y_pred_train[y_pred_train == 1] = 0\n",
        "y_pred_train[y_pred_train == -1] = 1\n",
        "y_pred_test[y_pred_test == 1] = 0\n",
        "y_pred_test[y_pred_test == -1] = 1\n"
      ],
      "metadata": {
        "id": "WmLOXXjUn1El"
      },
      "execution_count": 31,
      "outputs": []
    },
    {
      "cell_type": "code",
      "source": [
        "print(classification_report(y_train, y_pred_train))"
      ],
      "metadata": {
        "colab": {
          "base_uri": "https://localhost:8080/"
        },
        "id": "UPahHy18n_QY",
        "outputId": "663cc40c-353b-4f0f-ed87-109c6e738b15"
      },
      "execution_count": 32,
      "outputs": [
        {
          "output_type": "stream",
          "name": "stdout",
          "text": [
            "              precision    recall  f1-score   support\n",
            "\n",
            "           0       1.00      0.90      0.95    227451\n",
            "           1       0.02      0.89      0.03       394\n",
            "\n",
            "    accuracy                           0.90    227845\n",
            "   macro avg       0.51      0.89      0.49    227845\n",
            "weighted avg       1.00      0.90      0.95    227845\n",
            "\n"
          ]
        }
      ]
    },
    {
      "cell_type": "code",
      "source": [
        "print(confusion_matrix(y_train, y_pred_train))"
      ],
      "metadata": {
        "colab": {
          "base_uri": "https://localhost:8080/"
        },
        "id": "IIpvSDlaoD4W",
        "outputId": "fae9f748-3181-4b0b-86cb-a415b4ef3906"
      },
      "execution_count": 33,
      "outputs": [
        {
          "output_type": "stream",
          "name": "stdout",
          "text": [
            "[[205015  22436]\n",
            " [    45    349]]\n"
          ]
        }
      ]
    },
    {
      "cell_type": "code",
      "source": [
        "print(classification_report(y_test, y_pred_test))"
      ],
      "metadata": {
        "colab": {
          "base_uri": "https://localhost:8080/"
        },
        "id": "x1kzeQLloInX",
        "outputId": "0de97985-0092-4ea8-9256-227834d45f90"
      },
      "execution_count": 34,
      "outputs": [
        {
          "output_type": "stream",
          "name": "stdout",
          "text": [
            "              precision    recall  f1-score   support\n",
            "\n",
            "           0       1.00      0.90      0.95     56864\n",
            "           1       0.02      0.90      0.03        98\n",
            "\n",
            "    accuracy                           0.90     56962\n",
            "   macro avg       0.51      0.90      0.49     56962\n",
            "weighted avg       1.00      0.90      0.95     56962\n",
            "\n"
          ]
        }
      ]
    },
    {
      "cell_type": "code",
      "source": [
        "print(classification_report(y_test, y_pred_test))"
      ],
      "metadata": {
        "colab": {
          "base_uri": "https://localhost:8080/"
        },
        "id": "y8jbum8UoNKz",
        "outputId": "2950b7cd-a7d5-4767-a7bb-b5b442960a55"
      },
      "execution_count": 35,
      "outputs": [
        {
          "output_type": "stream",
          "name": "stdout",
          "text": [
            "              precision    recall  f1-score   support\n",
            "\n",
            "           0       1.00      0.90      0.95     56864\n",
            "           1       0.02      0.90      0.03        98\n",
            "\n",
            "    accuracy                           0.90     56962\n",
            "   macro avg       0.51      0.90      0.49     56962\n",
            "weighted avg       1.00      0.90      0.95     56962\n",
            "\n"
          ]
        }
      ]
    }
  ]
}